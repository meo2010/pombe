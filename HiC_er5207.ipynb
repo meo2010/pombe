{
  "nbformat": 4,
  "nbformat_minor": 0,
  "metadata": {
    "colab": {
      "provenance": [],
      "authorship_tag": "ABX9TyM17EDyzYF0Ii3u/zgwpDcU",
      "include_colab_link": true
    },
    "kernelspec": {
      "name": "python3",
      "display_name": "Python 3"
    },
    "language_info": {
      "name": "python"
    }
  },
  "cells": [
    {
      "cell_type": "markdown",
      "metadata": {
        "id": "view-in-github",
        "colab_type": "text"
      },
      "source": [
        "<a href=\"https://colab.research.google.com/github/meo2010/pombe/blob/master/HiC_er5207.ipynb\" target=\"_parent\"><img src=\"https://colab.research.google.com/assets/colab-badge.svg\" alt=\"Open In Colab\"/></a>"
      ]
    },
    {
      "cell_type": "code",
      "execution_count": 1,
      "metadata": {
        "colab": {
          "base_uri": "https://localhost:8080/"
        },
        "id": "fthTAnNoJBsk",
        "outputId": "027a9cfe-365c-42a0-d11a-55052a7113dd"
      },
      "outputs": [
        {
          "output_type": "stream",
          "name": "stdout",
          "text": [
            "Collecting hic-straw\n",
            "  Downloading hic-straw-1.3.1.tar.gz (18 kB)\n",
            "  Preparing metadata (setup.py) ... \u001b[?25l\u001b[?25hdone\n",
            "Collecting pybind11>=2.4 (from hic-straw)\n",
            "  Using cached pybind11-2.11.1-py3-none-any.whl (227 kB)\n",
            "Building wheels for collected packages: hic-straw\n",
            "  Building wheel for hic-straw (setup.py) ... \u001b[?25l\u001b[?25hdone\n",
            "  Created wheel for hic-straw: filename=hic_straw-1.3.1-cp310-cp310-linux_x86_64.whl size=1578591 sha256=490a81d4d036d72793b5ec239e4e04fad551302c957d9d389b0428823602713a\n",
            "  Stored in directory: /root/.cache/pip/wheels/23/85/e0/14f1be833ddf1da34165e04938653e00b602eb93e834497ae4\n",
            "Successfully built hic-straw\n",
            "Installing collected packages: pybind11, hic-straw\n",
            "Successfully installed hic-straw-1.3.1 pybind11-2.11.1\n"
          ]
        }
      ],
      "source": [
        "!pip install hic-straw\n"
      ]
    }
  ]
}